{
 "metadata": {
  "name": ""
 },
 "nbformat": 3,
 "nbformat_minor": 0,
 "worksheets": [
  {
   "cells": [
    {
     "cell_type": "code",
     "collapsed": false,
     "input": [
      "import numpy as np\n",
      "import matplotlib.pyplot as plt\n",
      "%matplotlib inline\n",
      "\n",
      "# Make sure that caffe is on the python path:\n",
      "#caffe_root = '../'  # this file is expected to be in {caffe_root}/examples\n",
      "import sys\n",
      "import os\n",
      "#print caffe_root\n",
      "#sys.path.insert(0, caffe_root + 'python')\n",
      "sys.path.append('/home/dl/caffe-master/python/')\n",
      "sys.path.append('/usr/lib/python2.7/dist-packages/')\n",
      "\n",
      "import caffe\n",
      "\n",
      "from caffe.proto import caffe_pb2\n",
      "\n",
      "import leveldb"
     ],
     "language": "python",
     "metadata": {},
     "outputs": [],
     "prompt_number": 2
    },
    {
     "cell_type": "code",
     "collapsed": false,
     "input": [
      "db = None"
     ],
     "language": "python",
     "metadata": {},
     "outputs": [],
     "prompt_number": 57
    },
    {
     "cell_type": "code",
     "collapsed": false,
     "input": [
      "train_num = 50000\n",
      "cifar_train_data = np.ndarray((train_num, 3, 32, 32), dtype=np.float64)\n",
      "cifar_train_label = np.ndarray((train_num, 1), dtype=np.int)\n",
      "\n",
      "db = leveldb.LevelDB('./dataset/cifar-train-leveldb')\n",
      "#print db.Get('00001') # from 00001 ~ 49999\n",
      "\n",
      "for i in xrange(1, train_num):\n",
      "    img_ind = '%05d' % i # get the image index\n",
      "    datum = caffe_pb2.Datum.FromString(db.Get(img_ind)) # get the first image \n",
      "    arr = caffe.io.datum_to_array(datum) # convert the image to arr\n",
      "    cifar_train_data[i][:][:][:] = arr # put (3, 32, 32) into training blob\n",
      "    cifar_train_label[i][0] = datum.label\n",
      "\n",
      "db = None"
     ],
     "language": "python",
     "metadata": {},
     "outputs": [],
     "prompt_number": 64
    },
    {
     "cell_type": "code",
     "collapsed": false,
     "input": [
      "test_num = 10000\n",
      "cifar_test_data = np.ndarray((test_num, 3, 32, 32), dtype=np.float64)\n",
      "cifar_test_label = np.ndarray((test_num, 1), dtype=np.int)\n",
      "\n",
      "db_test = leveldb.LevelDB('./dataset/cifar-test-leveldb')\n",
      "#print db.Get('00001') # from 00001 ~ 49999\n",
      "\n",
      "for i in xrange(1, test_num):\n",
      "    img_ind = '%05d' % i # get the image index\n",
      "    datum = caffe_pb2.Datum.FromString(db_test.Get(img_ind)) # get the first image \n",
      "    arr = caffe.io.datum_to_array(datum) # convert the image to arr\n",
      "    cifar_test_data[i][:][:][:] = arr # put (3, 32, 32) into training blob\n",
      "    cifar_test_label[i][0] = datum.label # get the label of image\n",
      "\n",
      "db_test = None"
     ],
     "language": "python",
     "metadata": {},
     "outputs": [],
     "prompt_number": 65
    },
    {
     "cell_type": "code",
     "collapsed": false,
     "input": [
      "roothash =  './hash code/'\n",
      "caffe.set_mode_gpu()\n",
      "\n",
      "code_len = '64'\n",
      "rootmodel = './models/cifar-640-' + code_len + '/'\n",
      "net = caffe.Net(rootmodel + 'cifar10-nin.prototxt', \\\n",
      "                rootmodel + 'cifar10_nin_iter_20000.caffemodel', 1)\n",
      "\n",
      "test_out = net.forward_all(data=cifar_test_data)\n",
      "train_out = net.forward_all(data=cifar_train_data)\n",
      "\n",
      "#test_prob = test_out.get('prob')\n",
      "#tmp = 0\n",
      "#for i in xrange(test_num):\n",
      "#    if (test_prob[i].argmax() == cifar_test_label[i][0]):\n",
      "#        tmp = tmp+1\n",
      "#print tmp*100.0/test_num\n",
      "\n",
      "test_hash = test_out.get('hash')\n",
      "train_hash = train_out.get('hash')\n",
      "\n",
      "from scipy.io import savemat\n",
      "savemat(roothash+'hash'+code_len+'.mat', {'testh':test_hash, 'trainh':train_hash})\n",
      "\n",
      "#savemat(roothash+'label.mat', {'test_label':cifar_test_label, 'train_label':cifar_train_label})\n",
      "\n",
      "print 'Done'"
     ],
     "language": "python",
     "metadata": {},
     "outputs": [
      {
       "output_type": "stream",
       "stream": "stdout",
       "text": [
        "Done\n"
       ]
      }
     ],
     "prompt_number": 70
    }
   ],
   "metadata": {}
  }
 ]
}