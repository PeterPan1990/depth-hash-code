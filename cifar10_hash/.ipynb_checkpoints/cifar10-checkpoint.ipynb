{
 "cells": [
  {
   "cell_type": "code",
   "execution_count": 1,
   "metadata": {
    "collapsed": false
   },
   "outputs": [
    {
     "name": "stdout",
     "output_type": "stream",
     "text": [
      "Done\n"
     ]
    }
   ],
   "source": [
    "import numpy as np\n",
    "import matplotlib.pyplot as plt\n",
    "%matplotlib inline\n",
    "\n",
    "# Make sure that caffe is on the python path:\n",
    "#caffe_root = '../'  # this file is expected to be in {caffe_root}/examples\n",
    "import sys\n",
    "import os\n",
    "#print caffe_root\n",
    "#sys.path.insert(0, caffe_root + 'python')\n",
    "sys.path.append('/home/young/caffe-master/python/')\n",
    "sys.path.append('/usr/lib/python2.7/dist-packages/')\n",
    "\n",
    "import caffe\n",
    "\n",
    "#rootdir = os.getcwd()\n",
    "#print rootdir\n",
    "\n",
    "print 'Done'"
   ]
  },
  {
   "cell_type": "code",
   "execution_count": 2,
   "metadata": {
    "collapsed": false
   },
   "outputs": [
    {
     "ename": "NameError",
     "evalue": "name 'rootdir' is not defined",
     "output_type": "error",
     "traceback": [
      "\u001b[1;31m---------------------------------------------------------------------------\u001b[0m",
      "\u001b[1;31mNameError\u001b[0m                                 Traceback (most recent call last)",
      "\u001b[1;32m<ipython-input-2-c145ae78636f>\u001b[0m in \u001b[0;36m<module>\u001b[1;34m()\u001b[0m\n\u001b[0;32m      1\u001b[0m \u001b[0mbits\u001b[0m \u001b[1;33m=\u001b[0m \u001b[1;36m32\u001b[0m\u001b[1;33m\u001b[0m\u001b[0m\n\u001b[1;32m----> 2\u001b[1;33m \u001b[0mrootmodel\u001b[0m \u001b[1;33m=\u001b[0m \u001b[0mrootdir\u001b[0m \u001b[1;33m+\u001b[0m \u001b[1;34m'/cifar10-32/'\u001b[0m\u001b[1;33m\u001b[0m\u001b[0m\n\u001b[0m\u001b[0;32m      3\u001b[0m \u001b[0mnet\u001b[0m \u001b[1;33m=\u001b[0m \u001b[0mcaffe\u001b[0m\u001b[1;33m.\u001b[0m\u001b[0mNet\u001b[0m\u001b[1;33m(\u001b[0m\u001b[0mrootmodel\u001b[0m \u001b[1;33m+\u001b[0m \u001b[1;34m'cifar10_32.prototxt'\u001b[0m\u001b[1;33m,\u001b[0m                 \u001b[0mrootmodel\u001b[0m \u001b[1;33m+\u001b[0m \u001b[1;34m'cifar10_full_hash32_iter_70000.caffemodel'\u001b[0m\u001b[1;33m)\u001b[0m\u001b[1;33m\u001b[0m\u001b[0m\n\u001b[0;32m      4\u001b[0m \u001b[0mnet\u001b[0m\u001b[1;33m.\u001b[0m\u001b[0mset_mode_gpu\u001b[0m\u001b[1;33m(\u001b[0m\u001b[1;33m)\u001b[0m \u001b[1;31m# use gpu model\u001b[0m\u001b[1;33m\u001b[0m\u001b[0m\n\u001b[0;32m      5\u001b[0m \u001b[1;32mprint\u001b[0m \u001b[1;34m\"done\"\u001b[0m\u001b[1;33m\u001b[0m\u001b[0m\n",
      "\u001b[1;31mNameError\u001b[0m: name 'rootdir' is not defined"
     ]
    }
   ],
   "source": [
    "bits = 32\n",
    "rootdir = '/home/young/Desktop/hashmodel'\n",
    "rootdata = rootdir + '/Zcifar10_hash/dataset/'\n",
    "TEST_DATA_FILE = rootdata + 'test_batch'\n",
    "#test_num = 10000\n",
    "#test  = unpickle(TEST_DATA_FILE)\n",
    "#test_data = test['data']\n",
    "#test_caffe_in = test_data.reshape(test_num,  3, 32, 32)\n",
    "\n",
    "rootmodel = rootdir + '/cifar10-32/'\n",
    "net = caffe.Net(rootmodel + 'cifar10_32.prototxt', \\\n",
    "                rootmodel + 'cifar10_full_hash32_iter_70000.caffemodel')\n",
    "net.set_mode_gpu() # use gpu model\n",
    "print \"done\""
   ]
  },
  {
   "cell_type": "code",
   "execution_count": 56,
   "metadata": {
    "collapsed": false
   },
   "outputs": [
    {
     "name": "stdout",
     "output_type": "stream",
     "text": [
      "[('conv1', (32, 3, 5, 5)), ('conv2', (32, 32, 5, 5)), ('conv3', (64, 32, 5, 5)), ('ip1', (64, 1024)), ('ip3', (44, 64)), ('ip2', (10, 44))]\n"
     ]
    }
   ],
   "source": [
    "print [(k,v[0].data.shape) for k,v in net.params.items() ]"
   ]
  },
  {
   "cell_type": "code",
   "execution_count": 57,
   "metadata": {
    "collapsed": false
   },
   "outputs": [],
   "source": [
    "def unpickle(file):\n",
    "    import cPickle\n",
    "    fo = open(file, 'rb')\n",
    "    dict = cPickle.load(fo)\n",
    "    fo.close()\n",
    "    return dict"
   ]
  },
  {
   "cell_type": "code",
   "execution_count": 58,
   "metadata": {
    "collapsed": false
   },
   "outputs": [
    {
     "name": "stdout",
     "output_type": "stream",
     "text": [
      "d\n",
      "(1, 3, 32, 32)\n",
      "(3, 32, 32)\n"
     ]
    }
   ],
   "source": [
    "\n",
    "MEAN_FILE = \"../examples/cifar10/mean.binaryproto\"\n",
    "\n",
    "blob = caffe.proto.caffe_pb2.BlobProto()\n",
    "data = open( MEAN_FILE, 'rb' ).read()\n",
    "blob.ParseFromString(data)\n",
    "arr = np.array( caffe.io.blobproto_to_array(blob) )\n",
    "out = arr[0]\n",
    "f = open(\"zhangshuyaomean.txt\", \"wb\")\n",
    "for k in range(0,3):\n",
    "    for i in range(0,32):\n",
    "        for j in range(0,32):\n",
    "            f.write(str(out[k][i][j]))\n",
    "            f.write(\" \")\n",
    "f.close()\n",
    "    \n",
    "print \"d\"\n",
    "print arr.shape\n",
    "print out.shape"
   ]
  },
  {
   "cell_type": "code",
   "execution_count": 59,
   "metadata": {
    "collapsed": false
   },
   "outputs": [],
   "source": [
    "TEST_FILE = \"../data/cifar-10-py/test_batch\"\n",
    "test_file0  = unpickle(TEST_FILE)\n",
    "test_data = test_file0['data']\n",
    "test_caffe_in = test_data.reshape(10000,  3, 32, 32)\n",
    "#help(test_caffe_in)\n",
    "test_caffe_in = np.array(test_caffe_in, np.float32)\n",
    "for k in range(0, 10000):\n",
    "    test_caffe_in[k][0] = test_caffe_in[k][0] - out[0]\n",
    "    test_caffe_in[k][1] = test_caffe_in[k][1] - out[1]\n",
    "    test_caffe_in[k][2] = test_caffe_in[k][2] - out[2]"
   ]
  },
  {
   "cell_type": "code",
   "execution_count": 60,
   "metadata": {
    "collapsed": false
   },
   "outputs": [
    {
     "ename": "KeyboardInterrupt",
     "evalue": "",
     "output_type": "error",
     "traceback": [
      "\u001b[0;31m---------------------------------------------------------------------------\u001b[0m\n\u001b[0;31mKeyboardInterrupt\u001b[0m                         Traceback (most recent call last)",
      "\u001b[0;32m<ipython-input-60-a91ac8f1aa71>\u001b[0m in \u001b[0;36m<module>\u001b[0;34m()\u001b[0m\n\u001b[0;32m----> 1\u001b[0;31m \u001b[0mtest_out\u001b[0m \u001b[0;34m=\u001b[0m \u001b[0mnet\u001b[0m\u001b[0;34m.\u001b[0m\u001b[0mforward_all\u001b[0m\u001b[0;34m(\u001b[0m\u001b[0mdata\u001b[0m \u001b[0;34m=\u001b[0m \u001b[0mtest_caffe_in\u001b[0m\u001b[0;34m)\u001b[0m\u001b[0;34m\u001b[0m\u001b[0m\n\u001b[0m",
      "\u001b[0;32m/home/sjwang/caffe/caffe-master/python/caffe/pycaffe.pyc\u001b[0m in \u001b[0;36m_Net_forward_all\u001b[0;34m(self, blobs, **kwargs)\u001b[0m\n\u001b[1;32m    158\u001b[0m     \u001b[0mall_outs\u001b[0m \u001b[0;34m=\u001b[0m \u001b[0;34m{\u001b[0m\u001b[0mout\u001b[0m\u001b[0;34m:\u001b[0m \u001b[0;34m[\u001b[0m\u001b[0;34m]\u001b[0m \u001b[0;32mfor\u001b[0m \u001b[0mout\u001b[0m \u001b[0;32min\u001b[0m \u001b[0mset\u001b[0m\u001b[0;34m(\u001b[0m\u001b[0mself\u001b[0m\u001b[0;34m.\u001b[0m\u001b[0moutputs\u001b[0m \u001b[0;34m+\u001b[0m \u001b[0;34m(\u001b[0m\u001b[0mblobs\u001b[0m \u001b[0;32mor\u001b[0m \u001b[0;34m[\u001b[0m\u001b[0;34m]\u001b[0m\u001b[0;34m)\u001b[0m\u001b[0;34m)\u001b[0m\u001b[0;34m}\u001b[0m\u001b[0;34m\u001b[0m\u001b[0m\n\u001b[1;32m    159\u001b[0m     \u001b[0;32mfor\u001b[0m \u001b[0mbatch\u001b[0m \u001b[0;32min\u001b[0m \u001b[0mself\u001b[0m\u001b[0;34m.\u001b[0m\u001b[0m_batch\u001b[0m\u001b[0;34m(\u001b[0m\u001b[0mkwargs\u001b[0m\u001b[0;34m)\u001b[0m\u001b[0;34m:\u001b[0m\u001b[0;34m\u001b[0m\u001b[0m\n\u001b[0;32m--> 160\u001b[0;31m         \u001b[0mouts\u001b[0m \u001b[0;34m=\u001b[0m \u001b[0mself\u001b[0m\u001b[0;34m.\u001b[0m\u001b[0mforward\u001b[0m\u001b[0;34m(\u001b[0m\u001b[0mblobs\u001b[0m\u001b[0;34m=\u001b[0m\u001b[0mblobs\u001b[0m\u001b[0;34m,\u001b[0m \u001b[0;34m**\u001b[0m\u001b[0mbatch\u001b[0m\u001b[0;34m)\u001b[0m\u001b[0;34m\u001b[0m\u001b[0m\n\u001b[0m\u001b[1;32m    161\u001b[0m         \u001b[0;32mfor\u001b[0m \u001b[0mout\u001b[0m\u001b[0;34m,\u001b[0m \u001b[0mout_blob\u001b[0m \u001b[0;32min\u001b[0m \u001b[0mouts\u001b[0m\u001b[0;34m.\u001b[0m\u001b[0miteritems\u001b[0m\u001b[0;34m(\u001b[0m\u001b[0;34m)\u001b[0m\u001b[0;34m:\u001b[0m\u001b[0;34m\u001b[0m\u001b[0m\n\u001b[1;32m    162\u001b[0m             \u001b[0mall_outs\u001b[0m\u001b[0;34m[\u001b[0m\u001b[0mout\u001b[0m\u001b[0;34m]\u001b[0m\u001b[0;34m.\u001b[0m\u001b[0mextend\u001b[0m\u001b[0;34m(\u001b[0m\u001b[0mout_blob\u001b[0m\u001b[0;34m.\u001b[0m\u001b[0mcopy\u001b[0m\u001b[0;34m(\u001b[0m\u001b[0;34m)\u001b[0m\u001b[0;34m)\u001b[0m\u001b[0;34m\u001b[0m\u001b[0m\n",
      "\u001b[0;32m/home/sjwang/caffe/caffe-master/python/caffe/pycaffe.pyc\u001b[0m in \u001b[0;36m_Net_forward\u001b[0;34m(self, blobs, start, end, **kwargs)\u001b[0m\n\u001b[1;32m     90\u001b[0m             \u001b[0mself\u001b[0m\u001b[0;34m.\u001b[0m\u001b[0mblobs\u001b[0m\u001b[0;34m[\u001b[0m\u001b[0min_\u001b[0m\u001b[0;34m]\u001b[0m\u001b[0;34m.\u001b[0m\u001b[0mdata\u001b[0m\u001b[0;34m[\u001b[0m\u001b[0;34m.\u001b[0m\u001b[0;34m.\u001b[0m\u001b[0;34m.\u001b[0m\u001b[0;34m]\u001b[0m \u001b[0;34m=\u001b[0m \u001b[0mblob\u001b[0m\u001b[0;34m\u001b[0m\u001b[0m\n\u001b[1;32m     91\u001b[0m \u001b[0;34m\u001b[0m\u001b[0m\n\u001b[0;32m---> 92\u001b[0;31m     \u001b[0mself\u001b[0m\u001b[0;34m.\u001b[0m\u001b[0m_forward\u001b[0m\u001b[0;34m(\u001b[0m\u001b[0mstart_ind\u001b[0m\u001b[0;34m,\u001b[0m \u001b[0mend_ind\u001b[0m\u001b[0;34m)\u001b[0m\u001b[0;34m\u001b[0m\u001b[0m\n\u001b[0m\u001b[1;32m     93\u001b[0m \u001b[0;34m\u001b[0m\u001b[0m\n\u001b[1;32m     94\u001b[0m     \u001b[0;31m# Unpack blobs to extract\u001b[0m\u001b[0;34m\u001b[0m\u001b[0;34m\u001b[0m\u001b[0m\n",
      "\u001b[0;31mKeyboardInterrupt\u001b[0m: "
     ]
    }
   ],
   "source": [
    "test_out = net.forward_all(data = test_caffe_in)"
   ]
  },
  {
   "cell_type": "code",
   "execution_count": null,
   "metadata": {
    "collapsed": false
   },
   "outputs": [],
   "source": [
    "test_labels = test_file0['labels']\n",
    "test_prob = test_out['prob']\n",
    "\n",
    "tmp = 0\n",
    "for i in range(0, 10000):\n",
    "    if (test_prob[i].argmax() == test_labels[i]):\n",
    "        tmp = tmp+1\n",
    "print tmp*100.0/10000"
   ]
  },
  {
   "cell_type": "code",
   "execution_count": null,
   "metadata": {
    "collapsed": false
   },
   "outputs": [],
   "source": [
    "TRAIN_FILE_2 = \"../data/cifar-10-py/data_batch_5\"\n",
    "train_file2 = unpickle(TRAIN_FILE_2)\n",
    "print [(k ) for k, v in train_file2.items()]\n",
    "print train_file2['data'].shape\n",
    "train_data = train_file2['data']\n",
    "train_labels = train_file2['labels']\n",
    "train_caffe_in = train_data.reshape(10000,3,32,32)\n",
    "train_caffe_in = np.array(train_caffe_in, np.float32)\n",
    "for k in range(0, 10000):\n",
    "    train_caffe_in[k][0] = train_caffe_in[k][0] - out[0]\n",
    "    train_caffe_in[k][1] = train_caffe_in[k][1] - out[1]\n",
    "    train_caffe_in[k][2] = train_caffe_in[k][2] - out[2]\n",
    "    "
   ]
  },
  {
   "cell_type": "code",
   "execution_count": null,
   "metadata": {
    "collapsed": false
   },
   "outputs": [],
   "source": [
    "train_out = net.forward_all(data = train_caffe_in)"
   ]
  },
  {
   "cell_type": "code",
   "execution_count": null,
   "metadata": {
    "collapsed": false
   },
   "outputs": [],
   "source": [
    "train_labels = train_file2['labels']\n",
    "train_prob = train_out['prob']\n",
    "tmp = 0\n",
    "for i in range(0, 10000):\n",
    "    if (train_prob[i].argmax() == train_labels[i]):\n",
    "        tmp = tmp+1\n",
    "print tmp*100.0/10000\n",
    "print train_labels[0:100]\n",
    "\n",
    "f = open(\"labels-5000train.txt\", \"wb\")\n",
    "for k in range(0,5000):\n",
    "    f.write(str(train_labels[k])+\"\\n\")\n",
    "f.close()\n"
   ]
  },
  {
   "cell_type": "code",
   "execution_count": null,
   "metadata": {
    "collapsed": false
   },
   "outputs": [],
   "source": [
    "def haimingDis(v1, v2):\n",
    "    tmp = 0\n",
    "    for i in range(0, bits):\n",
    "        if v1[i] != v2[i]:\n",
    "            tmp = tmp+1\n",
    "    return tmp"
   ]
  },
  {
   "cell_type": "code",
   "execution_count": null,
   "metadata": {
    "collapsed": false
   },
   "outputs": [],
   "source": [
    "train_code = train_out['hash']\n",
    "test_code = test_out['hash']\n",
    "train_code = train_code>0.5\n",
    "test_code = test_code>0.5"
   ]
  },
  {
   "cell_type": "code",
   "execution_count": null,
   "metadata": {
    "collapsed": false
   },
   "outputs": [],
   "source": [
    "print haimingDis(train_code[1],test_code[3])\n",
    "print train_code[1]\n",
    "print test_code[3]\n",
    "plt.subplot(2,2,1)\n",
    "plt.plot(train_code[1],'ro')\n",
    "plt.subplot(2,2,2)\n",
    "plt.plot(test_code[3], 'ro')\n",
    "plt.subplot(2,2,3)\n",
    "plt.imshow(train_caffe_in[1][0])\n",
    "plt.subplot(2,2,4)\n",
    "plt.imshow(test_caffe_in[3][0])"
   ]
  },
  {
   "cell_type": "code",
   "execution_count": null,
   "metadata": {
    "collapsed": false
   },
   "outputs": [],
   "source": [
    "cnt = [0 for i in range(0,10)]\n",
    "for i in range(0,5000):\n",
    "    cnt[train_labels[i]] += 1\n",
    "print cnt"
   ]
  },
  {
   "cell_type": "code",
   "execution_count": null,
   "metadata": {
    "collapsed": false
   },
   "outputs": [],
   "source": [
    "test_len = 1000\n",
    "train_len = 5000\n",
    "hDis = [[0 for j in range(0, train_len)] for i in range(0, test_len)]\n",
    "for i in range(0, test_len):\n",
    "    for j in range(0, train_len):\n",
    "        hDis[i][j] = haimingDis(test_code[i], train_code[j])\n",
    "print \"Done.\""
   ]
  },
  {
   "cell_type": "code",
   "execution_count": null,
   "metadata": {
    "collapsed": false
   },
   "outputs": [],
   "source": [
    "sum_x = 0\n",
    "cnt_x = 0\n",
    "sum_y = 0\n",
    "cnt_y = 0\n",
    "for i in range(0,test_len):\n",
    "    for j in range(0, train_len):\n",
    "        if (test_labels[i] == train_labels[j]):\n",
    "            cnt_x += 1\n",
    "            sum_x += hDis[i][j]\n",
    "        else:\n",
    "            cnt_y += 1\n",
    "            sum_y += hDis[i][j]\n",
    "print sum_x*1.0/cnt_x\n",
    "print sum_y*1.0/cnt_y"
   ]
  },
  {
   "cell_type": "code",
   "execution_count": null,
   "metadata": {
    "collapsed": false
   },
   "outputs": [],
   "source": [
    "sum = 0\n",
    "sum_n = 0\n",
    "\n",
    "limit = 2\n",
    "sum_A = [0 for i in range(0, bits+1)]\n",
    "sum_K = [0 for i in range(0, bits+1)]"
   ]
  },
  {
   "cell_type": "code",
   "execution_count": null,
   "metadata": {
    "collapsed": false
   },
   "outputs": [],
   "source": [
    "\n",
    "for limit in range(0,bits+1):\n",
    "    for i in range(0, test_len):\n",
    "        top_K = 0 #检索到的与测试数据i标签相同的数\n",
    "        top_A = 0 #测试数据i检索到的数, 海明距离<=limit\n",
    "        for j in range(0, train_len):\n",
    "            tmp = hDis[i][j]\n",
    "            if (tmp <= limit):\n",
    "                top_K = top_K + 1\n",
    "                if (test_labels[i] == train_labels[j]):\n",
    "                    top_A = top_A + 1\n",
    "        if (top_K > 0):\n",
    "            sum_n = sum_n + 1\n",
    "            sum = sum + top_A*1.0/top_K #第i个测试数据的正确率\n",
    "        sum_A[limit] += top_A\n",
    "        sum_K[limit] += top_K\n",
    "\n",
    "#******** pre 47%\n",
    "#sum_A = [114, 695, 1862, 3776, 6459, 9962, 14162, 18830, 23574, 28315, 32715, 36775, 40181, 43022, 45239, 46898, 48129, 48995, 49525, 49862, 50050, 50145, 50199, 50225, 50242, 50245, 50247, 50247, 50247, 50247, 50247, 50247, 50247]\n",
    "#sum_K = [221, 1285, 3859, 8567, 16089, 27283, 42681, 62931, 87871, 117608, 152095, 190294, 231244, 272683, 313942, 352567, 386972, 416324, 440418, 459408, 473543, 483479, 490122, 494485, 497232, 498795, 499558, 499856, 499973, 499993, 499998, 500000, 500000]\n",
    "\n",
    "print sum_A\n",
    "print sum_K"
   ]
  },
  {
   "cell_type": "code",
   "execution_count": null,
   "metadata": {
    "collapsed": false
   },
   "outputs": [],
   "source": [
    "#sum_A = [3054, 8406, 15140, 22707, 30314, 38685, 47325, 55693, 63289, 70413, 76938, 82466, 87235, 90947, 93793, 95965, 97472, 98587, 99259, 99660, 99907, 100030, 100091, 100123, 100136, 100145, 100148, 100148, 100148, 100148, 100148, 100148, 100148]\n",
    "#sum_K = [3143, 8885, 16343, 25352, 35660, 48440, 64090, 83042, 105976, 134787, 170552, 213113, 265282, 326039, 393442, 467963, 547528, 629066, 707487, 778102, 841076, 894660, 936134, 964740, 982690, 992389, 997183, 999122, 999745, 999955, 999996, 1000000, 1000000]\n",
    "\n",
    "    \n",
    "sum_A_44 = [12508, 37643, 70261, 104799, 141818, 179339, 216487, 252581, 285473, 316354, 345222, 371936, 394598, 414210, 431629, 446277, 458916, 469223, 477492, 483808, 488296, 491388, 493672, 495379, 496863, 497811, 498367, 498705, 498949, 499112, 499256, 499359, 499389, 499402, 499405, 499408, 499408, 499408, 499408, 499408, 499408, 499408, 499408, 499408, 499408]\n",
    "sum_K_44 = [13023, 39575, 74511, 113782, 157734, 204583, 254847, 309605, 368361, 437411, 517413, 611785, 722936, 859508, 1023265, 1210159, 1423379, 1659493, 1915583, 2189281, 2482155, 2782962, 3082578, 3359832, 3617641, 3863461, 4106922, 4329057, 4522750, 4682033, 4798958, 4881237, 4935318, 4966310, 4983218, 4992440, 4997315, 4999133, 4999813, 4999961, 4999990, 5000000, 5000000, 5000000, 5000000]\n",
    "pre_44 = [0 for i in range(0,44+1)]\n",
    "rec_44= [0 for i in range(0,44+1)]\n",
    "\n",
    "for i in range(0,44+1):\n",
    "    pre_44[i] = sum_A_44[i]*1.0/sum_K_44[i]\n",
    "    rec_44[i] = sum_A_44[i] * 1.0/499408.0\n",
    "\n",
    "\n",
    "\n",
    "sum_A_12 = [95230, 199831, 289184, 363876, 419086, 458190, 480602, 491886, 496677, 498815, 499328, 499405, 499408]\n",
    "sum_K_12 = [115037, 287065, 541495, 975620, 1527616, 2215509, 2970610, 3683435, 4287423, 4719647, 4930224, 4985549, 5000000]\n",
    "pre_12 = [0 for i in range(0,12+1)]\n",
    "rec_12 = [0 for i in range(0,12+1)]\n",
    "\n",
    "for i in range(0,12+1):\n",
    "    pre_12[i] = sum_A_12[i]*1.0/sum_K_12[i]\n",
    "    rec_12[i] = sum_A_12[i] * 1.0/499408.0\n",
    "\n",
    "\n",
    "sum_A_24 = [20755, 59417, 108383, 163569, 221417, 276903, 330120, 376211, 412805, 440927, 462002, 476542, 486250, 492675, 496306, 498198, 498946, 499216, 499343, 499383, 499402, 499406, 499408, 499408, 499408]\n",
    "sum_K_24 = [21827, 65634, 129169, 215739, 331779, 481070, 675983, 922081, 1228489, 1586544, 1984784, 2407996, 2859533, 3323971, 3777356, 4197440, 4526374, 4755638, 4890767, 4958296, 4987219, 4997121, 4999573, 4999959, 5000000]\n",
    "pre_24 = [0 for i in range(0,24+1)]\n",
    "rec_24 = [0 for i in range(0,24+1)]\n",
    "\n",
    "for i in range(0,24+1):\n",
    "    pre_24[i] = sum_A_24[i]*1.0/sum_K_24[i]\n",
    "    rec_24[i] = sum_A_24[i] * 1.0/499408.0\n",
    "    \n",
    "    \n",
    "sum_A_32 = [3054, 8406, 15140, 22707, 30314, 38685, 47325, 55693, 63289, 70413, 76938, 82466, 87235, 90947, 93793, 95965, 97472, 98587, 99259, 99660, 99907, 100030, 100091, 100123, 100136, 100145, 100148, 100148, 100148, 100148, 100148, 100148, 100148]\n",
    "sum_K_32 = [3143, 8885, 16343, 25352, 35660, 48440, 64090, 83042, 105976, 134787, 170552, 213113, 265282, 326039, 393442, 467963, 547528, 629066, 707487, 778102, 841076, 894660, 936134, 964740, 982690, 992389, 997183, 999122, 999745, 999955, 999996, 1000000, 1000000]\n",
    "pre_32 = [0 for i in range(0,32+1)]\n",
    "rec_32 = [0 for i in range(0,32+1)]\n",
    "\n",
    "for i in range(0,32+1):\n",
    "    pre_32[i] = sum_A_32[i]*1.0/sum_K_32[i]\n",
    "    rec_32[i] = sum_A_32[i] * 1.0/100148.0\n",
    "\n",
    "sum_A_36 = [18700, 50498, 88814, 129375, 171130, 212422, 252775, 290559, 326835, 359852, 388617, 413203, 433764, 450994, 464662, 474757, 482345, 487840, 491973, 494706, 496412, 497631, 498385, 498852, 499150, 499285, 499352, 499386, 499401, 499405, 499407, 499408, 499408, 499408, 499408, 499408, 499408]\n",
    "sum_K_36 = [19535, 54107, 98122, 147486, 203386, 266787, 340578, 423815, 521238, 632993, 767374, 936588, 1136172, 1369063, 1640248, 1933408, 2252393, 2587696, 2926289, 3266170, 3601622, 3924108, 4205807, 4450340, 4642527, 4784834, 4883146, 4943109, 4975081, 4990183, 4996852, 4999153, 4999811, 4999952, 4999995, 5000000, 5000000]\n",
    "pre_36 = [0 for i in range(0,36+1)]\n",
    "rec_36 = [0 for i in range(0,36+1)]\n",
    "for i in range(0,36+1):\n",
    "    pre_36[i] = sum_A_36[i]*1.0/sum_K_36[i]\n",
    "    rec_36[i] = sum_A_36[i] * 1.0/499408.0\n",
    "\n",
    "    \n",
    "sum_A_48 = [196, 928, 2425, 4787, 7957, 11763, 16157, 21058, 26253, 31854, 37451, 43346, 49297, 55072, 60715, 66143, 71227, 75817, 79975, 83626, 86851, 89631, 92047, 93922, 95492, 96746, 97692, 98466, 99005, 99420, 99718, 99871, 99978, 100064, 100104, 100126, 100138, 100141, 100146, 100148, 100148, 100148, 100148, 100148, 100148, 100148, 100148, 100148, 100148]\n",
    "sum_K_48 = [198, 956, 2549, 5150, 8754, 13291, 18785, 25392, 33255, 42798, 54021, 67731, 84285, 103661, 126329, 152494, 181781, 214782, 251935, 292468, 336725, 384693, 435941, 489743, 545257, 602462, 659923, 716521, 770699, 820805, 865615, 903430, 933930, 956996, 973590, 984697, 991635, 995782, 998051, 999179, 999722, 999904, 999977, 999991, 999999, 1000000, 1000000, 1000000, 1000000]\n",
    "\n",
    "pre_48 = [0 for i in range(0,48+1)]\n",
    "rec_48 = [0 for i in range(0,48+1)]\n",
    "\n",
    "for i in range(0,48+1):\n",
    "    pre_48[i] = sum_A_48[i]*1.0/sum_K_48[i]\n",
    "    rec_48[i] = sum_A_48[i] * 1.0/100148.0\n",
    "\n",
    "print \"分类准确率为61.94%时\"\n",
    "#help(plt)\n",
    "plt.title(\"cifar10-recall-precision\")\n",
    "plt.xlabel(\"recall\")# make axis labels\n",
    "plt.ylabel(\"precision\")\n",
    "plt.ylim(0,1.0)\n",
    "plt.xlim(0,1.0)\n",
    "plt.plot(rec_12, pre_12, label='cifar 12bits')\n",
    "plt.plot(rec_24, pre_24, label='cifar 24bits')\n",
    "plt.plot(rec_32, pre_32, label='cifar 32bits')\n",
    "plt.plot(rec_36, pre_36, label='cifar 36bits')\n",
    "plt.plot(rec_44, pre_44, label='cifar 44bits')\n",
    "plt.plot(rec_48, pre_48,label='cifar 48bits')\n",
    "plt.legend(loc='lower left')\n",
    "plt.show()"
   ]
  },
  {
   "cell_type": "code",
   "execution_count": null,
   "metadata": {
    "collapsed": false
   },
   "outputs": [],
   "source": [
    "bitLen = [12, 24, 32,36,44,48]\n",
    "bitPre = [[0,0,0,0,0,0] for i in range(0,4)]\n",
    "for  i in range(0, 4):\n",
    "    bitPre[i][0] = sum_A_12[i]*1.0/sum_K_12[i]\n",
    "    bitPre[i][1] = sum_A_24[i]*1.0/sum_K_24[i]\n",
    "    bitPre[i][2] = sum_A_32[i]*1.0/sum_K_32[i]\n",
    "    bitPre[i][3] = sum_A_36[i]*1.0/sum_K_36[i]\n",
    "    bitPre[i][4] = sum_A_44[i]*1.0/sum_K_44[i]\n",
    "    bitPre[i][5] = sum_A_48[i]*1.0/sum_K_48[i]\n",
    "\n",
    "plt.title(\"cifar10 bit-precision\")\n",
    "plt.xlabel(\"num of bits\")# make axis labels\n",
    "plt.ylabel(\"precision\")\n",
    "plt.ylim(0,1.0)\n",
    "plt.xlim(10,50)\n",
    "for i in range(0,4):\n",
    "    plt.plot(bitLen, bitPre[i],'*-',  label=str(i))\n",
    "plt.legend(loc='lower right')\n",
    "plt.show()"
   ]
  },
  {
   "cell_type": "code",
   "execution_count": null,
   "metadata": {
    "collapsed": false
   },
   "outputs": [],
   "source": [
    "help(plt.legend)"
   ]
  },
  {
   "cell_type": "code",
   "execution_count": null,
   "metadata": {
    "collapsed": false
   },
   "outputs": [],
   "source": []
  }
 ],
 "metadata": {
  "kernelspec": {
   "display_name": "Python 2",
   "language": "python",
   "name": "python2"
  },
  "language_info": {
   "codemirror_mode": {
    "name": "ipython",
    "version": 2
   },
   "file_extension": ".py",
   "mimetype": "text/x-python",
   "name": "python",
   "nbconvert_exporter": "python",
   "pygments_lexer": "ipython2",
   "version": "2.7.9"
  }
 },
 "nbformat": 4,
 "nbformat_minor": 0
}
